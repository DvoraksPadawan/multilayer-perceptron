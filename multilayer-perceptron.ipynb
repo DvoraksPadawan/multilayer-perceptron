{
  "metadata": {
    "language_info": {
      "codemirror_mode": {
        "name": "python",
        "version": 3
      },
      "file_extension": ".py",
      "mimetype": "text/x-python",
      "name": "python",
      "nbconvert_exporter": "python",
      "pygments_lexer": "ipython3",
      "version": "3.8"
    },
    "kernelspec": {
      "name": "python",
      "display_name": "Python (Pyodide)",
      "language": "python"
    }
  },
  "nbformat_minor": 4,
  "nbformat": 4,
  "cells": [
    {
      "cell_type": "code",
      "source": "import numpy as np",
      "metadata": {
        "trusted": true
      },
      "execution_count": 2,
      "outputs": []
    },
    {
      "cell_type": "code",
      "source": "class MLP:\n    def __init__(self):\n        self.input_size = 2\n        self.hidden_size = 4\n        self.output_size = 1\n        \n        self.w1 = np.array([[np.random.random() for TO in range(self.hidden_size)] for FROM in range(self.input_size)])\n        self.w2 = np.array([[np.random.random() for TO in range(self.output_size)] for FROM in range(self.hidden_size)])\n        self.b1 = np.array([np.random.random() for TO in range(self.hidden_size)])\n        self.b2 = np.array([np.random.random() for TO in range(self.output_size)])\n        \n        self.ITERS = 5\n        self.LR = 0.01\n        self.alpha = 0.01\n    def predict(self, x, return_hidden_output = False):\n        hidden_input = self.forward(x, self.w1, self.b1)\n        hidden_output = self.relu(hidden_input)\n        if return_hidden_output:\n            return hidden_output\n        output_input = self.forward(hidden_output, self.w2, self.b2)\n        output = self.relu(output_input)\n        return output\n    def forward(self, l1, w, b):\n        l2 = np.array([0 for TO in range(w.shape[1])])\n        for TO in range(w.shape[1]):\n            for FROM in range(w.shape[0]):\n                l2[TO] += l1[FROM] * w[FROM][TO]\n            l2[TO] += b[TO]\n        return l2\n    def train(self, X, Y):\n        for iter in range(self.ITERS):\n            for x,y in zip(X,Y):\n                self.backward(x, y)\n    def backward(self, x, y):\n        hidden_output = self.predict(x, True)\n        pred = self.predict(x)\n        output_error = 2*(pred - y)\n        hiden_error = np.dot(output_error, self.w2.T) * (hidden_output > 0)\n        self.update_weights(self.w1, self.b2, output_error)\n        self.update_weights(self.w1, self.b1, hidden_error)\n        \n    def update_weights(self, w, b, error):\n        w -= self.LR * np.outer(error, w)\n        b -= self.LR * error\n        \n    def relu(self, x):\n        return np.where(x > 0, x, x*self.alpha)\n                                          \nX = np.array([\n    [0,0],\n    [1,0],\n    [0,1],\n    [1,1]\n    ])\nY = [0,1,1,0]\nmodel = MLP()\nmodel.train(X,Y)\na = model.predict([0,0])\na\n\n",
      "metadata": {
        "trusted": true
      },
      "execution_count": 8,
      "outputs": [
        {
          "ename": "<class 'ValueError'>",
          "evalue": "operands could not be broadcast together with shapes (2,4) (1,8) (2,4) ",
          "traceback": [
            "\u001b[0;31m---------------------------------------------------------------------------\u001b[0m",
            "\u001b[0;31mValueError\u001b[0m                                Traceback (most recent call last)",
            "Cell \u001b[0;32mIn[8], line 57\u001b[0m\n\u001b[1;32m     55\u001b[0m Y \u001b[38;5;241m=\u001b[39m [\u001b[38;5;241m0\u001b[39m,\u001b[38;5;241m1\u001b[39m,\u001b[38;5;241m1\u001b[39m,\u001b[38;5;241m0\u001b[39m]\n\u001b[1;32m     56\u001b[0m model \u001b[38;5;241m=\u001b[39m MLP()\n\u001b[0;32m---> 57\u001b[0m \u001b[43mmodel\u001b[49m\u001b[38;5;241;43m.\u001b[39;49m\u001b[43mtrain\u001b[49m\u001b[43m(\u001b[49m\u001b[43mX\u001b[49m\u001b[43m,\u001b[49m\u001b[43mY\u001b[49m\u001b[43m)\u001b[49m\n\u001b[1;32m     58\u001b[0m a \u001b[38;5;241m=\u001b[39m model\u001b[38;5;241m.\u001b[39mpredict([\u001b[38;5;241m0\u001b[39m,\u001b[38;5;241m0\u001b[39m])\n\u001b[1;32m     59\u001b[0m a\n",
            "Cell \u001b[0;32mIn[8], line 33\u001b[0m, in \u001b[0;36mMLP.train\u001b[0;34m(self, X, Y)\u001b[0m\n\u001b[1;32m     31\u001b[0m \u001b[38;5;28;01mfor\u001b[39;00m \u001b[38;5;28miter\u001b[39m \u001b[38;5;129;01min\u001b[39;00m \u001b[38;5;28mrange\u001b[39m(\u001b[38;5;28mself\u001b[39m\u001b[38;5;241m.\u001b[39mITERS):\n\u001b[1;32m     32\u001b[0m     \u001b[38;5;28;01mfor\u001b[39;00m x,y \u001b[38;5;129;01min\u001b[39;00m \u001b[38;5;28mzip\u001b[39m(X,Y):\n\u001b[0;32m---> 33\u001b[0m         \u001b[38;5;28;43mself\u001b[39;49m\u001b[38;5;241;43m.\u001b[39;49m\u001b[43mbackward\u001b[49m\u001b[43m(\u001b[49m\u001b[43mx\u001b[49m\u001b[43m,\u001b[49m\u001b[43m \u001b[49m\u001b[43my\u001b[49m\u001b[43m)\u001b[49m\n",
            "Cell \u001b[0;32mIn[8], line 39\u001b[0m, in \u001b[0;36mMLP.backward\u001b[0;34m(self, x, y)\u001b[0m\n\u001b[1;32m     37\u001b[0m output_error \u001b[38;5;241m=\u001b[39m \u001b[38;5;241m2\u001b[39m\u001b[38;5;241m*\u001b[39m(pred \u001b[38;5;241m-\u001b[39m y)\n\u001b[1;32m     38\u001b[0m hiden_error \u001b[38;5;241m=\u001b[39m np\u001b[38;5;241m.\u001b[39mdot(output_error, \u001b[38;5;28mself\u001b[39m\u001b[38;5;241m.\u001b[39mw2\u001b[38;5;241m.\u001b[39mT) \u001b[38;5;241m*\u001b[39m (hidden_output \u001b[38;5;241m>\u001b[39m \u001b[38;5;241m0\u001b[39m)\n\u001b[0;32m---> 39\u001b[0m \u001b[38;5;28;43mself\u001b[39;49m\u001b[38;5;241;43m.\u001b[39;49m\u001b[43mupdate_weights\u001b[49m\u001b[43m(\u001b[49m\u001b[38;5;28;43mself\u001b[39;49m\u001b[38;5;241;43m.\u001b[39;49m\u001b[43mw1\u001b[49m\u001b[43m,\u001b[49m\u001b[43m \u001b[49m\u001b[38;5;28;43mself\u001b[39;49m\u001b[38;5;241;43m.\u001b[39;49m\u001b[43mb2\u001b[49m\u001b[43m,\u001b[49m\u001b[43m \u001b[49m\u001b[43moutput_error\u001b[49m\u001b[43m)\u001b[49m\n\u001b[1;32m     40\u001b[0m \u001b[38;5;28mself\u001b[39m\u001b[38;5;241m.\u001b[39mupdate_weights(\u001b[38;5;28mself\u001b[39m\u001b[38;5;241m.\u001b[39mw1, \u001b[38;5;28mself\u001b[39m\u001b[38;5;241m.\u001b[39mb1, hidden_error)\n",
            "Cell \u001b[0;32mIn[8], line 43\u001b[0m, in \u001b[0;36mMLP.update_weights\u001b[0;34m(self, w, b, error)\u001b[0m\n\u001b[1;32m     42\u001b[0m \u001b[38;5;28;01mdef\u001b[39;00m \u001b[38;5;21mupdate_weights\u001b[39m(\u001b[38;5;28mself\u001b[39m, w, b, error):\n\u001b[0;32m---> 43\u001b[0m     \u001b[43mw\u001b[49m\u001b[43m \u001b[49m\u001b[38;5;241;43m-\u001b[39;49m\u001b[38;5;241;43m=\u001b[39;49m\u001b[43m \u001b[49m\u001b[38;5;28;43mself\u001b[39;49m\u001b[38;5;241;43m.\u001b[39;49m\u001b[43mLR\u001b[49m\u001b[43m \u001b[49m\u001b[38;5;241;43m*\u001b[39;49m\u001b[43m \u001b[49m\u001b[43mnp\u001b[49m\u001b[38;5;241;43m.\u001b[39;49m\u001b[43mouter\u001b[49m\u001b[43m(\u001b[49m\u001b[43merror\u001b[49m\u001b[43m,\u001b[49m\u001b[43m \u001b[49m\u001b[43mw\u001b[49m\u001b[43m)\u001b[49m\n\u001b[1;32m     44\u001b[0m     b \u001b[38;5;241m-\u001b[39m\u001b[38;5;241m=\u001b[39m \u001b[38;5;28mself\u001b[39m\u001b[38;5;241m.\u001b[39mLR \u001b[38;5;241m*\u001b[39m error\n",
            "\u001b[0;31mValueError\u001b[0m: operands could not be broadcast together with shapes (2,4) (1,8) (2,4) "
          ],
          "output_type": "error"
        }
      ]
    },
    {
      "cell_type": "code",
      "source": "",
      "metadata": {},
      "execution_count": null,
      "outputs": []
    }
  ]
}
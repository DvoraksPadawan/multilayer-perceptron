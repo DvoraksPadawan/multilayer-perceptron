{
  "metadata": {
    "language_info": {
      "codemirror_mode": {
        "name": "python",
        "version": 3
      },
      "file_extension": ".py",
      "mimetype": "text/x-python",
      "name": "python",
      "nbconvert_exporter": "python",
      "pygments_lexer": "ipython3",
      "version": "3.8"
    },
    "kernelspec": {
      "name": "python",
      "display_name": "Python (Pyodide)",
      "language": "python"
    }
  },
  "nbformat_minor": 4,
  "nbformat": 4,
  "cells": [
    {
      "cell_type": "code",
      "source": "import numpy as np",
      "metadata": {
        "trusted": true
      },
      "execution_count": 1,
      "outputs": []
    },
    {
      "cell_type": "code",
      "source": "class MLP:\n    def __init__(self):\n        self.input_size = 2\n        self.hidden_size = 4\n        self.output_size = 1\n        \n        self.w1 = np.array([[np.random.random() for TO in range(self.hidden_size)] for FROM in range(self.input_size)])\n        self.w2 = np.array([[np.random.random() for TO in range(self.output_size)] for FROM in range(self.hidden_size)])\n        self.b1 = np.array([np.random.random() for TO in range(self.hidden_size)])\n        self.b2 = np.array([np.random.random() for TO in range(self.output_size)])\n        \n        self.ITERS = 100\n        self.LR = 0.01\n        self.alpha = 0.1\n    def predict(self, x, return_hidden_output = False):\n        hidden_input = self.forward(x, self.w1, self.b1)\n        hidden_output = self.relu(hidden_input)\n        if return_hidden_output:\n            return hidden_output\n        output_input = self.forward(hidden_output, self.w2, self.b2)\n        output = self.relu(output_input)\n        return output\n    def forward(self, l1, w, b):\n        l2 = np.array([0 for TO in range(w.shape[1])])\n        for TO in range(w.shape[1]):\n            for FROM in range(w.shape[0]):\n                #print(l1[FROM])\n                l2[TO] += l1[FROM] * w[FROM][TO]\n                #print(l2[TO])\n            l2[TO] += b[TO]\n        return l2\n    def train(self, X, Y):\n        for iter in range(self.ITERS):\n            for x,y in zip(X,Y):\n                self.backward(x, y)\n                #print(self.w1, self.w2)\n    def backward2(self, x, y):\n        hidden_output = self.predict(x, True)\n        pred = self.predict(x)\n        output_error = 2*(pred - y)\n        hidden_error = (output_error * self.w2.T) * (hidden_output > 0)\n        self.update_weights(self.w2, self.b2, output_error)\n        self.update_weights(self.w1, self.b1, hidden_error)\n        \n    def update_weights2(self, w, b, error):\n        w -= self.LR * np.outer(error, w)\n        b -= self.LR * error\n       \n    def backward(self, x, y):\n        hidden_output = self.predict(x, True)\n        #print(hidden_output)\n        pred = self.predict(x)\n        output_error = 2 * (pred - y)\n        #print(pred, y)\n        hidden_error = [0 for _ in range(self.hidden_size)]\n        for i in range(self.hidden_size):\n            for j in range(self.output_size):\n                hidden_error[i] += output_error[j] * self.w2[i][j]\n            hidden_error[i] *= (hidden_output[i] > 0)\n        #print(hidden_error)\n        #print(\"update\")\n        self.update_weights(self.w2, self.b2, output_error)\n        self.update_weights(self.w1, self.b1, hidden_error)\n        \n    def update_weights(self, w, b, error):\n        #print(\"update\")\n        #print(w,b)\n        #print(error)\n        for i in range(w.shape[0]):\n            for j in range(w.shape[1]):\n                w[i][j] -= self.LR * error[j] * w[i][j]\n                b[j] -= self.LR * error[j]\n        #print(w,b)\n        \n    def relu(self, x):\n        return np.where(x > 0, x, x*self.alpha)\n                                          \nX = np.array([\n    [0,0],\n    [1,0],\n    [0,1],\n    [1,1]\n    ])\nY = np.array([0,1,1,0])\nmodel = MLP()\nmodel.train(X,Y)\na = model.predict([1,0], True)\na\n",
      "metadata": {
        "trusted": true
      },
      "execution_count": 32,
      "outputs": [
        {
          "execution_count": 32,
          "output_type": "execute_result",
          "data": {
            "text/plain": "array([0., 0., 0., 0.])"
          },
          "metadata": {}
        }
      ]
    },
    {
      "cell_type": "code",
      "source": "",
      "metadata": {},
      "execution_count": null,
      "outputs": []
    },
    {
      "cell_type": "code",
      "source": "",
      "metadata": {},
      "execution_count": null,
      "outputs": []
    }
  ]
}
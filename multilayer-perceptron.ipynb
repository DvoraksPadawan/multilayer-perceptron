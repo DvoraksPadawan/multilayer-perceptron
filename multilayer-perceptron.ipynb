{
  "metadata": {
    "language_info": {
      "codemirror_mode": {
        "name": "python",
        "version": 3
      },
      "file_extension": ".py",
      "mimetype": "text/x-python",
      "name": "python",
      "nbconvert_exporter": "python",
      "pygments_lexer": "ipython3",
      "version": "3.8"
    },
    "kernelspec": {
      "name": "python",
      "display_name": "Python (Pyodide)",
      "language": "python"
    }
  },
  "nbformat_minor": 4,
  "nbformat": 4,
  "cells": [
    {
      "cell_type": "code",
      "source": "import numpy as np",
      "metadata": {
        "trusted": true
      },
      "execution_count": 1,
      "outputs": []
    },
    {
      "cell_type": "code",
      "source": "class MLP:\n    def __init__(self):\n        self.input_size = 2\n        self.hidden_size = 4\n        self.output_size = 1\n        \n        self.w1 = np.array([[np.random.random() for TO in range(self.hidden_size)] for FROM in range(self.input_size)])\n        self.w2 = np.array([[np.random.random() for TO in range(self.output_size)] for FROM in range(self.hidden_size)])\n        self.b1 = np.array([np.random.random() for TO in range(self.hidden_size)])\n        self.b2 = np.array([np.random.random() for TO in range(self.output_size)])\n        \n        self.ITERS = 5\n        self.LR = 0.01\n        self.alpha = 0.01\n    def predict(self, x):\n        hidden_input = self.forward_propagation(x, self.w1, self.b1)\n        hidden_output = self.relu(hidden_input)\n        output_input = self.forward_propagation(hidden_output, self.w2, self.b2)\n        output = self.relu(output_input)\n        return output\n    def forward(self, l1, w, b):\n        l2 = np.array([0 for TO in range(w.shape[1])])\n        for TO in range(w.shape[1]):\n            for FROM in range(w.shape[0]):\n                l2[TO] += l1[FROM] * w[FROM][TO]\n            l2[TO] += b[TO]\n        return l2\n    def train(self, X, Y):\n        for iter in self.ITERS:\n            for x,y in zip(X,Y):\n                pred = self.forward_propagation(x)\n                self.backward(pred,y)\n    def backward(self, pred, y):\n        output_error = 2(pred - y)\n        hiden_error = output_error\n        self.update_weights(self.w1, self.b2, output_error)\n        self.update_weights(self.w1, self.b1, hidden_error)\n        \n    def update_weights(self, w, b, error):\n        w = self.LR * w * error\n        b = self.LR * b * error\n        \n    def relu(self, x):\n        return np.where(x > 0, x, x*self.alpha)\n                                          \nX = np.array([\n    [0,0],\n    [1,0],\n    [0,1],\n    [1,1]\n    ])\nY = [0,1,1,0]\nmodel = MLP()\nmodel.train(X,Y)\na = model.predict([0,0])\na\n\n",
      "metadata": {
        "trusted": true
      },
      "execution_count": 10,
      "outputs": [
        {
          "execution_count": 10,
          "output_type": "execute_result",
          "data": {
            "text/plain": "array([0.])"
          },
          "metadata": {}
        }
      ]
    },
    {
      "cell_type": "code",
      "source": "",
      "metadata": {},
      "execution_count": null,
      "outputs": []
    }
  ]
}